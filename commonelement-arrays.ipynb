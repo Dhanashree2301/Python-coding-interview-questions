{
 "cells": [
  {
   "cell_type": "code",
   "execution_count": 6,
   "id": "eae07a7a",
   "metadata": {},
   "outputs": [
    {
     "name": "stdout",
     "output_type": "stream",
     "text": [
      "[1, 2, 4, 9]\n"
     ]
    }
   ],
   "source": [
    "#function that returns the common elements (as an array) between two sorted arrays of integers (ascending order).\n",
    "#Example: The common elements between [1, 3, 4, 6, 7, 9] and [1, 2, 4, 5, 9, 10] are [1, 4, 9].\n",
    "\n",
    "A=[1,3,2,4,6,7,9]\n",
    "B=[1,2,4,5,9,10]\n",
    "commonelement=[]\n",
    "for item in A:\n",
    "    if item in B:\n",
    "        commonelement.append(item)\n",
    "print(commonelement)"
   ]
  },
  {
   "cell_type": "code",
   "execution_count": null,
   "id": "a15b5f00",
   "metadata": {},
   "outputs": [],
   "source": []
  }
 ],
 "metadata": {
  "kernelspec": {
   "display_name": "Python 3",
   "language": "python",
   "name": "python3"
  },
  "language_info": {
   "codemirror_mode": {
    "name": "ipython",
    "version": 3
   },
   "file_extension": ".py",
   "mimetype": "text/x-python",
   "name": "python",
   "nbconvert_exporter": "python",
   "pygments_lexer": "ipython3",
   "version": "3.8.8"
  }
 },
 "nbformat": 4,
 "nbformat_minor": 5
}
