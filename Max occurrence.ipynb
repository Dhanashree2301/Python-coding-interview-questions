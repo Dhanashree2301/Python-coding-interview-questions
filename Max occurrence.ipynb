{
 "cells": [
  {
   "cell_type": "code",
   "execution_count": 8,
   "id": "f2825d05",
   "metadata": {},
   "outputs": [
    {
     "name": "stdout",
     "output_type": "stream",
     "text": [
      "{1: 3, 2: 2, 3: 1}\n",
      "1\n"
     ]
    }
   ],
   "source": [
    "#Find the most frequently occurring item in an array.\n",
    "\n",
    "#Example: The most frequently occurring item in [1, 3, 1, 3, 2, 1] is 1.\n",
    "arr=[1,2,3,1,2,1]\n",
    "arr2={}\n",
    "max=0\n",
    "charmax=''\n",
    "for char in arr:\n",
    "    if char not in arr2:\n",
    "        arr2[char]=1\n",
    "    else:\n",
    "        arr2[char]+=1\n",
    "print(arr2)\n",
    "for maxch in arr2:\n",
    "    if max<arr2[maxch]:\n",
    "        max=arr2[maxch]\n",
    "        charmax=maxch\n",
    "print(charmax)"
   ]
  }
 ],
 "metadata": {
  "kernelspec": {
   "display_name": "Python 3",
   "language": "python",
   "name": "python3"
  },
  "language_info": {
   "codemirror_mode": {
    "name": "ipython",
    "version": 3
   },
   "file_extension": ".py",
   "mimetype": "text/x-python",
   "name": "python",
   "nbconvert_exporter": "python",
   "pygments_lexer": "ipython3",
   "version": "3.8.8"
  }
 },
 "nbformat": 4,
 "nbformat_minor": 5
}
