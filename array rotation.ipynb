{
 "cells": [
  {
   "cell_type": "code",
   "execution_count": 25,
   "id": "edd71615",
   "metadata": {},
   "outputs": [
    {
     "name": "stdout",
     "output_type": "stream",
     "text": [
      "false\n",
      "false\n",
      "false\n",
      "false\n",
      "false\n",
      "false\n",
      "false\n",
      "false\n"
     ]
    }
   ],
   "source": [
    "#function that returns True if one array is a rotation of another.\n",
    "#Example: [1, 2, 3, 4, 5, 6, 7] is a rotation of [4, 5, 6, 7, 1, 2, 3].\n",
    "\n",
    "A=[1,3,2,4,5,6,7]\n",
    "B=[4,5,1,6,7,1,2,3]\n",
    "if len(A)!=len(B):\n",
    "    print('false')\n",
    "key=A[0]\n",
    "Key_i=-1\n",
    "for i in range(0,len(B)):\n",
    "    if B[i]==key:\n",
    "        key_i=i\n",
    "        break\n",
    "if key_i==-1:\n",
    "    print('false')\n",
    "for j in range(0,len(A)):\n",
    "    j=(key_i+i)%len(A)\n",
    "    if A[i]!=B[j]:\n",
    "        print('false')"
   ]
  },
  {
   "cell_type": "code",
   "execution_count": null,
   "id": "537e2229",
   "metadata": {},
   "outputs": [],
   "source": []
  }
 ],
 "metadata": {
  "kernelspec": {
   "display_name": "Python 3",
   "language": "python",
   "name": "python3"
  },
  "language_info": {
   "codemirror_mode": {
    "name": "ipython",
    "version": 3
   },
   "file_extension": ".py",
   "mimetype": "text/x-python",
   "name": "python",
   "nbconvert_exporter": "python",
   "pygments_lexer": "ipython3",
   "version": "3.8.8"
  }
 },
 "nbformat": 4,
 "nbformat_minor": 5
}
