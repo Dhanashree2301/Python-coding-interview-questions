{
 "cells": [
  {
   "cell_type": "code",
   "execution_count": 3,
   "id": "19b62886",
   "metadata": {},
   "outputs": [
    {
     "name": "stdout",
     "output_type": "stream",
     "text": [
      "h\n"
     ]
    }
   ],
   "source": [
    "#function that takes a string and returns the first character that does not appear twice or more.\n",
    "\n",
    "#Example: \"abacc\" -> 'b' ('a' appears twice, and so does 'c')\n",
    " #\"xxyzx\" -> 'y' ('y' and 'z' are non-repeating characters, and 'y' appears first)\n",
    "\n",
    "def nonrep(str):\n",
    "    dict={}\n",
    "    for char in str:\n",
    "        if char not in dict:\n",
    "            dict[char]=1\n",
    "        else:\n",
    "            dict[char]+=1\n",
    "    for ele in str:\n",
    "        if dict[ele]==1:\n",
    "            print(ele)\n",
    "            break\n",
    "nonrep(\"ddhanna\")"
   ]
  }
 ],
 "metadata": {
  "kernelspec": {
   "display_name": "Python 3",
   "language": "python",
   "name": "python3"
  },
  "language_info": {
   "codemirror_mode": {
    "name": "ipython",
    "version": 3
   },
   "file_extension": ".py",
   "mimetype": "text/x-python",
   "name": "python",
   "nbconvert_exporter": "python",
   "pygments_lexer": "ipython3",
   "version": "3.8.8"
  }
 },
 "nbformat": 4,
 "nbformat_minor": 5
}
