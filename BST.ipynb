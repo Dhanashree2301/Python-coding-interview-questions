{
 "cells": [
  {
   "cell_type": "code",
   "execution_count": 17,
   "id": "345524dd",
   "metadata": {},
   "outputs": [
    {
     "data": {
      "text/plain": [
       "True"
      ]
     },
     "execution_count": 17,
     "metadata": {},
     "output_type": "execute_result"
    }
   ],
   "source": [
    "class Node:\n",
    "    def __init__(self, value, left=None, right=None):\n",
    "        self.value = value\n",
    "        self.left = left\n",
    "        self.right = right\n",
    "\n",
    "def is_bst(node,lower_lim=None ,upper_lim=None):\n",
    "    if lower_lim is not None and node.value<=lower_lim:\n",
    "        return false\n",
    "    if lower_lim is not None and node.value<=lower_lim:\n",
    "        return false\n",
    "    is_left_bst=True\n",
    "    is_rght_bst=True\n",
    "    if node.value:\n",
    "        is_left_bst=is_bst(node.left,lower_lim,node.value)\n",
    "    if node.value:\n",
    "        is_rght_bst=is_bst(node.right,node.value,upper_lim)\n",
    "    return is_left_bst and is_rght_bst\n",
    "\n",
    "def create_tree(mapping, head_value):\n",
    "    head = Node(head_value)\n",
    "    nodes = {head_value: head}\n",
    "    for key, value in mapping.items():\n",
    "        nodes[value[0]] = Node(value[0])\n",
    "        nodes[value[1]] = Node(value[1])\n",
    "    for key, value in mapping.items():\n",
    "        nodes[key].left = nodes[value[0]]\n",
    "        nodes[key].right = nodes[value[1]]\n",
    "    return head\n",
    "mapping0 = {0: [1, 2]}\n",
    "mapping1 = {0: [1, 2], 1: [3, 4], 2: [5, 6]}\n",
    "mapping2 = {3: [1, 4], 1: [0, 2], 4: [5, 6]}\n",
    "mapping3 = {3: [1, 5], 1: [0, 2], 5: [4, 6]}\n",
    "head0 = create_tree(mapping0, 0)\n",
    "head1 = create_tree(mapping1, 0)\n",
    "head2 = create_tree(mapping2, 3)\n",
    "head3 = create_tree(mapping3, 3)\n",
    "is_bst(head0)\n",
    "\n"
   ]
  },
  {
   "cell_type": "code",
   "execution_count": null,
   "id": "acb1bb93",
   "metadata": {},
   "outputs": [],
   "source": []
  }
 ],
 "metadata": {
  "kernelspec": {
   "display_name": "Python 3",
   "language": "python",
   "name": "python3"
  },
  "language_info": {
   "codemirror_mode": {
    "name": "ipython",
    "version": 3
   },
   "file_extension": ".py",
   "mimetype": "text/x-python",
   "name": "python",
   "nbconvert_exporter": "python",
   "pygments_lexer": "ipython3",
   "version": "3.8.8"
  }
 },
 "nbformat": 4,
 "nbformat_minor": 5
}
