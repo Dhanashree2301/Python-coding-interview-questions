{
 "cells": [
  {
   "cell_type": "code",
   "execution_count": 52,
   "id": "c9e0596f",
   "metadata": {},
   "outputs": [
    {
     "name": "stdout",
     "output_type": "stream",
     "text": [
      "Not one away\n"
     ]
    }
   ],
   "source": [
    "#function that takes two strings and returns true if they are one away from each other.\n",
    "#They are one away from each other if a single operation (changing a character, deleting a character or adding a character) will change one of the strings to the other.\n",
    "#Examples:\"abcde\" and \"abcd\" are one away (deleting a character).\n",
    "#\"a\" and \"a\" are one away (changing the only character 'a' to the equivalent character 'a').\n",
    "#\"abc\" and \"bcc\" are NOT one away. (They are two operations away.)\n",
    "#s1=\"abmcde\"\n",
    "#s2=\"abde\"\n",
    "\n",
    "\n",
    "def oneaway_difflen(s1,s2):\n",
    "    count=0\n",
    "    i=0\n",
    "    while(i<len(s2)):\n",
    "            if s1[i+count]==s2[i]:\n",
    "                i+=1\n",
    "            else:\n",
    "                count+=1\n",
    "                if count>1:\n",
    "                    return \"Not one away\"\n",
    "    return \"Two strings are one away\"\n",
    "def oneaway_samelen(s1,s2):\n",
    "    count=0\n",
    "    if len(s1)-len(s2)>=2 or len(s2)-len(s1)>=2:\n",
    "        print(\"Not one away\")\n",
    "    elif len(s1)==len(s2):\n",
    "        for i in range(0,len(s1)-1):\n",
    "            if s1[i]!=s2[i]:\n",
    "                count+=1\n",
    "        if count>=2:\n",
    "            print(\"Not one away\")\n",
    "        else:\n",
    "            print(\"Two strings are one away\")\n",
    "    elif len(s1)>len(s2):\n",
    "        abc=oneaway_difflen(s1,s2)\n",
    "        print(abc)\n",
    "    else:\n",
    "        abc=oneaway_difflen(s2,s1)\n",
    "        print(abc)\n",
    "    \n",
    "oneaway_samelen(s1,s2)"
   ]
  },
  {
   "cell_type": "code",
   "execution_count": null,
   "id": "b650a005",
   "metadata": {},
   "outputs": [],
   "source": []
  }
 ],
 "metadata": {
  "kernelspec": {
   "display_name": "Python 3",
   "language": "python",
   "name": "python3"
  },
  "language_info": {
   "codemirror_mode": {
    "name": "ipython",
    "version": 3
   },
   "file_extension": ".py",
   "mimetype": "text/x-python",
   "name": "python",
   "nbconvert_exporter": "python",
   "pygments_lexer": "ipython3",
   "version": "3.8.8"
  }
 },
 "nbformat": 4,
 "nbformat_minor": 5
}
